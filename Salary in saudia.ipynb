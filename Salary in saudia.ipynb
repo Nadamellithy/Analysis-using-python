{
 "cells": [
  {
   "cell_type": "code",
   "execution_count": 4,
   "id": "c0eaa9a8",
   "metadata": {},
   "outputs": [],
   "source": [
    "import pandas as pd\n",
    "import numpy as np\n",
    "import matplotlib.pyplot as plt\n",
    "import seaborn as sns"
   ]
  },
  {
   "cell_type": "code",
   "execution_count": 6,
   "id": "9914011e",
   "metadata": {},
   "outputs": [],
   "source": [
    "DF=pd.read_csv(\"Salary by Education.csv\")"
   ]
  },
  {
   "cell_type": "code",
   "execution_count": 7,
   "id": "7658f517",
   "metadata": {},
   "outputs": [
    {
     "name": "stdout",
     "output_type": "stream",
     "text": [
      "<class 'pandas.core.frame.DataFrame'>\n",
      "RangeIndex: 504 entries, 0 to 503\n",
      "Data columns (total 6 columns):\n",
      " #   Column        Non-Null Count  Dtype \n",
      "---  ------        --------------  ----- \n",
      " 0   Degree Level  504 non-null    object\n",
      " 1   Nationality   504 non-null    object\n",
      " 2   Gender        504 non-null    object\n",
      " 3   Year Quarter  504 non-null    object\n",
      " 4   Salary        504 non-null    int64 \n",
      " 5   Currency      504 non-null    object\n",
      "dtypes: int64(1), object(5)\n",
      "memory usage: 23.8+ KB\n"
     ]
    }
   ],
   "source": [
    "DF.info()\n"
   ]
  },
  {
   "cell_type": "code",
   "execution_count": 11,
   "id": "0160c283",
   "metadata": {},
   "outputs": [
    {
     "data": {
      "text/html": [
       "<div>\n",
       "<style scoped>\n",
       "    .dataframe tbody tr th:only-of-type {\n",
       "        vertical-align: middle;\n",
       "    }\n",
       "\n",
       "    .dataframe tbody tr th {\n",
       "        vertical-align: top;\n",
       "    }\n",
       "\n",
       "    .dataframe thead th {\n",
       "        text-align: right;\n",
       "    }\n",
       "</style>\n",
       "<table border=\"1\" class=\"dataframe\">\n",
       "  <thead>\n",
       "    <tr style=\"text-align: right;\">\n",
       "      <th></th>\n",
       "      <th>Degree Level</th>\n",
       "      <th>Nationality</th>\n",
       "      <th>Gender</th>\n",
       "      <th>Year Quarter</th>\n",
       "      <th>Salary</th>\n",
       "      <th>Currency</th>\n",
       "    </tr>\n",
       "  </thead>\n",
       "  <tbody>\n",
       "    <tr>\n",
       "      <th>0</th>\n",
       "      <td>Primary</td>\n",
       "      <td>NonSaudi</td>\n",
       "      <td>Female</td>\n",
       "      <td>2017 Q1</td>\n",
       "      <td>1590</td>\n",
       "      <td>SAR</td>\n",
       "    </tr>\n",
       "    <tr>\n",
       "      <th>1</th>\n",
       "      <td>Primary</td>\n",
       "      <td>NonSaudi</td>\n",
       "      <td>Male</td>\n",
       "      <td>2017 Q1</td>\n",
       "      <td>2173</td>\n",
       "      <td>SAR</td>\n",
       "    </tr>\n",
       "    <tr>\n",
       "      <th>2</th>\n",
       "      <td>Primary</td>\n",
       "      <td>Saudi</td>\n",
       "      <td>Female</td>\n",
       "      <td>2017 Q1</td>\n",
       "      <td>4172</td>\n",
       "      <td>SAR</td>\n",
       "    </tr>\n",
       "    <tr>\n",
       "      <th>3</th>\n",
       "      <td>Primary</td>\n",
       "      <td>Saudi</td>\n",
       "      <td>Male</td>\n",
       "      <td>2017 Q1</td>\n",
       "      <td>6172</td>\n",
       "      <td>SAR</td>\n",
       "    </tr>\n",
       "    <tr>\n",
       "      <th>4</th>\n",
       "      <td>Primary</td>\n",
       "      <td>NonSaudi</td>\n",
       "      <td>Female</td>\n",
       "      <td>2017 Q2</td>\n",
       "      <td>1597</td>\n",
       "      <td>SAR</td>\n",
       "    </tr>\n",
       "  </tbody>\n",
       "</table>\n",
       "</div>"
      ],
      "text/plain": [
       "  Degree Level Nationality  Gender Year Quarter  Salary Currency\n",
       "0      Primary    NonSaudi  Female      2017 Q1    1590      SAR\n",
       "1      Primary    NonSaudi    Male      2017 Q1    2173      SAR\n",
       "2      Primary       Saudi  Female      2017 Q1    4172      SAR\n",
       "3      Primary       Saudi    Male      2017 Q1    6172      SAR\n",
       "4      Primary    NonSaudi  Female      2017 Q2    1597      SAR"
      ]
     },
     "execution_count": 11,
     "metadata": {},
     "output_type": "execute_result"
    }
   ],
   "source": [
    "DF.head()"
   ]
  },
  {
   "cell_type": "code",
   "execution_count": 14,
   "id": "989d1214",
   "metadata": {},
   "outputs": [],
   "source": [
    "#explore The Data"
   ]
  },
  {
   "cell_type": "code",
   "execution_count": 17,
   "id": "b5163096",
   "metadata": {},
   "outputs": [
    {
     "data": {
      "text/plain": [
       "(504, 6)"
      ]
     },
     "execution_count": 17,
     "metadata": {},
     "output_type": "execute_result"
    }
   ],
   "source": [
    "DF.shape"
   ]
  },
  {
   "cell_type": "code",
   "execution_count": 19,
   "id": "5d9a6fa5",
   "metadata": {},
   "outputs": [
    {
     "data": {
      "text/html": [
       "<div>\n",
       "<style scoped>\n",
       "    .dataframe tbody tr th:only-of-type {\n",
       "        vertical-align: middle;\n",
       "    }\n",
       "\n",
       "    .dataframe tbody tr th {\n",
       "        vertical-align: top;\n",
       "    }\n",
       "\n",
       "    .dataframe thead th {\n",
       "        text-align: right;\n",
       "    }\n",
       "</style>\n",
       "<table border=\"1\" class=\"dataframe\">\n",
       "  <thead>\n",
       "    <tr style=\"text-align: right;\">\n",
       "      <th></th>\n",
       "      <th>count</th>\n",
       "      <th>mean</th>\n",
       "      <th>std</th>\n",
       "      <th>min</th>\n",
       "      <th>25%</th>\n",
       "      <th>50%</th>\n",
       "      <th>75%</th>\n",
       "      <th>max</th>\n",
       "    </tr>\n",
       "  </thead>\n",
       "  <tbody>\n",
       "    <tr>\n",
       "      <th>Salary</th>\n",
       "      <td>504.0</td>\n",
       "      <td>8950.031746</td>\n",
       "      <td>6372.635277</td>\n",
       "      <td>1331.0</td>\n",
       "      <td>4194.0</td>\n",
       "      <td>7890.5</td>\n",
       "      <td>12448.75</td>\n",
       "      <td>35622.0</td>\n",
       "    </tr>\n",
       "  </tbody>\n",
       "</table>\n",
       "</div>"
      ],
      "text/plain": [
       "        count         mean          std     min     25%     50%       75%  \\\n",
       "Salary  504.0  8950.031746  6372.635277  1331.0  4194.0  7890.5  12448.75   \n",
       "\n",
       "            max  \n",
       "Salary  35622.0  "
      ]
     },
     "execution_count": 19,
     "metadata": {},
     "output_type": "execute_result"
    }
   ],
   "source": [
    "DF.describe().transpose()"
   ]
  },
  {
   "cell_type": "code",
   "execution_count": 21,
   "id": "90bb883d",
   "metadata": {},
   "outputs": [
    {
     "data": {
      "text/plain": [
       "Male      252\n",
       "Female    252\n",
       "Name: Gender, dtype: int64"
      ]
     },
     "execution_count": 21,
     "metadata": {},
     "output_type": "execute_result"
    }
   ],
   "source": [
    "DF['Gender'].value_counts()"
   ]
  },
  {
   "cell_type": "code",
   "execution_count": 23,
   "id": "20d00ce3",
   "metadata": {},
   "outputs": [
    {
     "data": {
      "text/plain": [
       "Bachelor         72\n",
       "Doctorate        72\n",
       "Intermediate     72\n",
       "Master Degree    72\n",
       "Secondary        72\n",
       "Primary          72\n",
       "Diploma          72\n",
       "Name: Degree Level, dtype: int64"
      ]
     },
     "execution_count": 23,
     "metadata": {},
     "output_type": "execute_result"
    }
   ],
   "source": [
    "DF['Degree Level'].value_counts()"
   ]
  },
  {
   "cell_type": "code",
   "execution_count": 25,
   "id": "e9283418",
   "metadata": {},
   "outputs": [
    {
     "data": {
      "text/plain": [
       "NonSaudi    252\n",
       "Saudi       252\n",
       "Name: Nationality, dtype: int64"
      ]
     },
     "execution_count": 25,
     "metadata": {},
     "output_type": "execute_result"
    }
   ],
   "source": [
    "DF['Nationality'].value_counts()"
   ]
  },
  {
   "cell_type": "code",
   "execution_count": 28,
   "id": "94cddb93",
   "metadata": {},
   "outputs": [
    {
     "name": "stdout",
     "output_type": "stream",
     "text": [
      "              Salary\n",
      "min      1331.000000\n",
      "max     35622.000000\n",
      "mean     8950.031746\n",
      "median   7890.500000\n"
     ]
    }
   ],
   "source": [
    "print(DF.agg({'Salary': ['min', 'max', 'mean', 'median']}))"
   ]
  },
  {
   "cell_type": "code",
   "execution_count": 30,
   "id": "86dfb065",
   "metadata": {},
   "outputs": [
    {
     "data": {
      "text/plain": [
       "SAR    504\n",
       "Name: Currency, dtype: int64"
      ]
     },
     "execution_count": 30,
     "metadata": {},
     "output_type": "execute_result"
    }
   ],
   "source": [
    "DF['Currency'].value_counts()\n"
   ]
  },
  {
   "cell_type": "code",
   "execution_count": 32,
   "id": "f76ada84",
   "metadata": {},
   "outputs": [
    {
     "data": {
      "text/plain": [
       "2020 Q3    28\n",
       "2020 Q2    28\n",
       "2018 Q2    28\n",
       "2021 Q1    28\n",
       "2021 Q2    28\n",
       "2017 Q4    28\n",
       "2018 Q3    28\n",
       "2017 Q2    28\n",
       "2020 Q1    28\n",
       "2019 Q3    28\n",
       "2017 Q1    28\n",
       "2019 Q1    28\n",
       "2019 Q2    28\n",
       "2017 Q3    28\n",
       "2020 Q4    28\n",
       "2018 Q4    28\n",
       "2019 Q4    28\n",
       "2018 Q1    28\n",
       "Name: Year Quarter, dtype: int64"
      ]
     },
     "execution_count": 32,
     "metadata": {},
     "output_type": "execute_result"
    }
   ],
   "source": [
    "DF['Year Quarter'].value_counts()"
   ]
  },
  {
   "cell_type": "code",
   "execution_count": 34,
   "id": "2e2e2758",
   "metadata": {},
   "outputs": [],
   "source": [
    "##Cleaning Data"
   ]
  },
  {
   "cell_type": "code",
   "execution_count": 36,
   "id": "70ed5757",
   "metadata": {},
   "outputs": [],
   "source": [
    "##Check missing value"
   ]
  },
  {
   "cell_type": "code",
   "execution_count": 38,
   "id": "c61eef8e",
   "metadata": {},
   "outputs": [
    {
     "data": {
      "text/plain": [
       "Degree Level    0\n",
       "Nationality     0\n",
       "Gender          0\n",
       "Year Quarter    0\n",
       "Salary          0\n",
       "Currency        0\n",
       "dtype: int64"
      ]
     },
     "execution_count": 38,
     "metadata": {},
     "output_type": "execute_result"
    }
   ],
   "source": [
    "DF.isnull().sum()"
   ]
  },
  {
   "cell_type": "code",
   "execution_count": 40,
   "id": "9ec9feed",
   "metadata": {},
   "outputs": [
    {
     "data": {
      "text/plain": [
       "0"
      ]
     },
     "execution_count": 40,
     "metadata": {},
     "output_type": "execute_result"
    }
   ],
   "source": [
    "DF.duplicated().sum()"
   ]
  },
  {
   "cell_type": "code",
   "execution_count": 42,
   "id": "af19c6ae",
   "metadata": {},
   "outputs": [
    {
     "data": {
      "text/plain": [
       "array([[<AxesSubplot:title={'center':'Salary'}>]], dtype=object)"
      ]
     },
     "execution_count": 42,
     "metadata": {},
     "output_type": "execute_result"
    },
    {
     "data": {
      "image/png": "[encoded data removed]",
      "text/plain": [
       "<Figure size 432x288 with 1 Axes>"
      ]
     },
     "metadata": {
      "needs_background": "light"
     },
     "output_type": "display_data"
    }
   ],
   "source": [
    "DF.hist()"
   ]
  },
  {
   "cell_type": "code",
   "execution_count": 50,
   "id": "bc378816",
   "metadata": {},
   "outputs": [
    {
     "data": {
      "text/html": [
       "<div>\n",
       "<style scoped>\n",
       "    .dataframe tbody tr th:only-of-type {\n",
       "        vertical-align: middle;\n",
       "    }\n",
       "\n",
       "    .dataframe tbody tr th {\n",
       "        vertical-align: top;\n",
       "    }\n",
       "\n",
       "    .dataframe thead th {\n",
       "        text-align: right;\n",
       "    }\n",
       "</style>\n",
       "<table border=\"1\" class=\"dataframe\">\n",
       "  <thead>\n",
       "    <tr style=\"text-align: right;\">\n",
       "      <th></th>\n",
       "      <th>Degree Level</th>\n",
       "      <th>Salary</th>\n",
       "    </tr>\n",
       "  </thead>\n",
       "  <tbody>\n",
       "    <tr>\n",
       "      <th>0</th>\n",
       "      <td>Bachelor</td>\n",
       "      <td>9535.555556</td>\n",
       "    </tr>\n",
       "    <tr>\n",
       "      <th>1</th>\n",
       "      <td>Diploma</td>\n",
       "      <td>7036.694444</td>\n",
       "    </tr>\n",
       "    <tr>\n",
       "      <th>2</th>\n",
       "      <td>Doctorate</td>\n",
       "      <td>19835.458333</td>\n",
       "    </tr>\n",
       "    <tr>\n",
       "      <th>3</th>\n",
       "      <td>Intermediate</td>\n",
       "      <td>4101.527778</td>\n",
       "    </tr>\n",
       "    <tr>\n",
       "      <th>4</th>\n",
       "      <td>Master Degree</td>\n",
       "      <td>13797.875000</td>\n",
       "    </tr>\n",
       "    <tr>\n",
       "      <th>5</th>\n",
       "      <td>Primary</td>\n",
       "      <td>3569.041667</td>\n",
       "    </tr>\n",
       "    <tr>\n",
       "      <th>6</th>\n",
       "      <td>Secondary</td>\n",
       "      <td>4774.069444</td>\n",
       "    </tr>\n",
       "  </tbody>\n",
       "</table>\n",
       "</div>"
      ],
      "text/plain": [
       "    Degree Level        Salary\n",
       "0       Bachelor   9535.555556\n",
       "1        Diploma   7036.694444\n",
       "2      Doctorate  19835.458333\n",
       "3   Intermediate   4101.527778\n",
       "4  Master Degree  13797.875000\n",
       "5        Primary   3569.041667\n",
       "6      Secondary   4774.069444"
      ]
     },
     "execution_count": 50,
     "metadata": {},
     "output_type": "execute_result"
    }
   ],
   "source": [
    "SalarybyDegree =  DF.groupby('Degree Level')['Salary'].mean()\n",
    "SD=pd.DataFrame(SalarybyDegree)\n",
    "SD.reset_index(inplace=True)\n",
    "SD"
   ]
  },
  {
   "cell_type": "code",
   "execution_count": 97,
   "id": "7f621e78",
   "metadata": {},
   "outputs": [
    {
     "data": {
      "image/png": "[encoded data removed]",
      "text/plain": [
       "<Figure size 864x432 with 1 Axes>"
      ]
     },
     "metadata": {
      "needs_background": "light"
     },
     "output_type": "display_data"
    }
   ],
   "source": [
    "\n",
    "plt.figure(figsize=(12,6))\n",
    "\n",
    "plt.bar(SD['Degree Level'],SD['Salary'])\n",
    "plt.title(\"Salary By Degree Level\")\n",
    "\n",
    "X=plt.xlabel(\"Degree Level\")\n",
    "Y=plt.ylabel(\"Salary\")\n",
    "\n"
   ]
  },
  {
   "cell_type": "code",
   "execution_count": 103,
   "id": "76d90f8d",
   "metadata": {},
   "outputs": [
    {
     "data": {
      "text/html": [
       "<div>\n",
       "<style scoped>\n",
       "    .dataframe tbody tr th:only-of-type {\n",
       "        vertical-align: middle;\n",
       "    }\n",
       "\n",
       "    .dataframe tbody tr th {\n",
       "        vertical-align: top;\n",
       "    }\n",
       "\n",
       "    .dataframe thead th {\n",
       "        text-align: right;\n",
       "    }\n",
       "</style>\n",
       "<table border=\"1\" class=\"dataframe\">\n",
       "  <thead>\n",
       "    <tr style=\"text-align: right;\">\n",
       "      <th></th>\n",
       "      <th>Gender</th>\n",
       "      <th>Salary</th>\n",
       "    </tr>\n",
       "  </thead>\n",
       "  <tbody>\n",
       "    <tr>\n",
       "      <th>0</th>\n",
       "      <td>Female</td>\n",
       "      <td>7664.559524</td>\n",
       "    </tr>\n",
       "    <tr>\n",
       "      <th>1</th>\n",
       "      <td>Male</td>\n",
       "      <td>10235.503968</td>\n",
       "    </tr>\n",
       "  </tbody>\n",
       "</table>\n",
       "</div>"
      ],
      "text/plain": [
       "   Gender        Salary\n",
       "0  Female   7664.559524\n",
       "1    Male  10235.503968"
      ]
     },
     "execution_count": 103,
     "metadata": {},
     "output_type": "execute_result"
    }
   ],
   "source": [
    "x=DF.groupby('Gender')['Salary'].mean()\n",
    "GS=pd.DataFrame(x)\n",
    "GS.reset_index(inplace=True)\n",
    "GS"
   ]
  },
  {
   "cell_type": "code",
   "execution_count": 111,
   "id": "722015c0",
   "metadata": {},
   "outputs": [
    {
     "data": {
      "text/plain": [
       "([<matplotlib.patches.Wedge at 0x26e4e6d9910>,\n",
       "  <matplotlib.patches.Wedge at 0x26e4e6d9fa0>],\n",
       " [Text(0.2460707982302205, 1.0721236692930263, 'Female'),\n",
       "  Text(-0.24607059747129198, -1.0721237153706291, 'Male')],\n",
       " [Text(0.13422043539830206, 0.584794728705287, '42.8%'),\n",
       "  Text(-0.13422032589343197, -0.5847947538385249, '57.2%')])"
      ]
     },
     "execution_count": 111,
     "metadata": {},
     "output_type": "execute_result"
    },
    {
     "data": {
      "image/png": "[encoded data removed]",
      "text/plain": [
       "<Figure size 432x288 with 1 Axes>"
      ]
     },
     "metadata": {},
     "output_type": "display_data"
    }
   ],
   "source": [
    "colorPalette=[\"#D57838\",\"#FFCE33\"]\n",
    "plt.pie(GS['Salary'],labels=GS['Gender'],autopct=\"%1.1f%%\",colors=colorPalette)"
   ]
  },
  {
   "cell_type": "code",
   "execution_count": 113,
   "id": "b83e4f76",
   "metadata": {},
   "outputs": [],
   "source": [
    "##Nationality Vs Salary"
   ]
  },
  {
   "cell_type": "code",
   "execution_count": 117,
   "id": "b1cdbd4f",
   "metadata": {},
   "outputs": [
    {
     "data": {
      "text/html": [
       "<div>\n",
       "<style scoped>\n",
       "    .dataframe tbody tr th:only-of-type {\n",
       "        vertical-align: middle;\n",
       "    }\n",
       "\n",
       "    .dataframe tbody tr th {\n",
       "        vertical-align: top;\n",
       "    }\n",
       "\n",
       "    .dataframe thead th {\n",
       "        text-align: right;\n",
       "    }\n",
       "</style>\n",
       "<table border=\"1\" class=\"dataframe\">\n",
       "  <thead>\n",
       "    <tr style=\"text-align: right;\">\n",
       "      <th></th>\n",
       "      <th>Nationality</th>\n",
       "      <th>Salary</th>\n",
       "    </tr>\n",
       "  </thead>\n",
       "  <tbody>\n",
       "    <tr>\n",
       "      <th>0</th>\n",
       "      <td>NonSaudi</td>\n",
       "      <td>6663.587302</td>\n",
       "    </tr>\n",
       "    <tr>\n",
       "      <th>1</th>\n",
       "      <td>Saudi</td>\n",
       "      <td>11236.476190</td>\n",
       "    </tr>\n",
       "  </tbody>\n",
       "</table>\n",
       "</div>"
      ],
      "text/plain": [
       "  Nationality        Salary\n",
       "0    NonSaudi   6663.587302\n",
       "1       Saudi  11236.476190"
      ]
     },
     "execution_count": 117,
     "metadata": {},
     "output_type": "execute_result"
    }
   ],
   "source": [
    "Y=DF.groupby('Nationality')['Salary'].mean()\n",
    "NS=pd.DataFrame(Y)\n",
    "NS.reset_index(inplace=True)\n",
    "NS"
   ]
  },
  {
   "cell_type": "code",
   "execution_count": 121,
   "id": "77dcc229",
   "metadata": {},
   "outputs": [
    {
     "data": {
      "text/plain": [
       "([<matplotlib.patches.Wedge at 0x26e4dde1d90>,\n",
       "  <matplotlib.patches.Wedge at 0x26e4dde1970>],\n",
       " [Text(0.429664616678769, 1.0126145945888232, 'NonSaudi'),\n",
       "  Text(-0.4296646166787691, -1.0126145945888232, 'Saudi')],\n",
       " [Text(0.2343625181884194, 0.5523352334120853, '37.2%'),\n",
       "  Text(-0.23436251818841947, -0.5523352334120852, '62.8%')])"
      ]
     },
     "execution_count": 121,
     "metadata": {},
     "output_type": "execute_result"
    },
    {
     "data": {
      "image/png": "[encoded data removed]",
      "text/plain": [
       "<Figure size 432x288 with 1 Axes>"
      ]
     },
     "metadata": {},
     "output_type": "display_data"
    }
   ],
   "source": [
    "colorPalette=[\"#000000\",\"#00FF00\"]\n",
    "plt.pie(NS['Salary'],labels=NS['Nationality'],autopct=\"%1.1f%%\",colors=colorPalette)"
   ]
  },
  {
   "cell_type": "code",
   "execution_count": 123,
   "id": "a7174eac",
   "metadata": {},
   "outputs": [],
   "source": [
    "##Salary Vs Quarter year"
   ]
  },
  {
   "cell_type": "code",
   "execution_count": 128,
   "id": "78682e54",
   "metadata": {},
   "outputs": [
    {
     "data": {
      "text/html": [
       "<div>\n",
       "<style scoped>\n",
       "    .dataframe tbody tr th:only-of-type {\n",
       "        vertical-align: middle;\n",
       "    }\n",
       "\n",
       "    .dataframe tbody tr th {\n",
       "        vertical-align: top;\n",
       "    }\n",
       "\n",
       "    .dataframe thead th {\n",
       "        text-align: right;\n",
       "    }\n",
       "</style>\n",
       "<table border=\"1\" class=\"dataframe\">\n",
       "  <thead>\n",
       "    <tr style=\"text-align: right;\">\n",
       "      <th></th>\n",
       "      <th>Year Quarter</th>\n",
       "      <th>Salary</th>\n",
       "    </tr>\n",
       "  </thead>\n",
       "  <tbody>\n",
       "    <tr>\n",
       "      <th>0</th>\n",
       "      <td>2017 Q1</td>\n",
       "      <td>8777.821429</td>\n",
       "    </tr>\n",
       "    <tr>\n",
       "      <th>1</th>\n",
       "      <td>2017 Q2</td>\n",
       "      <td>8644.857143</td>\n",
       "    </tr>\n",
       "    <tr>\n",
       "      <th>2</th>\n",
       "      <td>2017 Q3</td>\n",
       "      <td>8622.250000</td>\n",
       "    </tr>\n",
       "    <tr>\n",
       "      <th>3</th>\n",
       "      <td>2017 Q4</td>\n",
       "      <td>8427.678571</td>\n",
       "    </tr>\n",
       "    <tr>\n",
       "      <th>4</th>\n",
       "      <td>2018 Q1</td>\n",
       "      <td>8551.678571</td>\n",
       "    </tr>\n",
       "    <tr>\n",
       "      <th>5</th>\n",
       "      <td>2018 Q2</td>\n",
       "      <td>9013.642857</td>\n",
       "    </tr>\n",
       "    <tr>\n",
       "      <th>6</th>\n",
       "      <td>2018 Q3</td>\n",
       "      <td>9062.928571</td>\n",
       "    </tr>\n",
       "    <tr>\n",
       "      <th>7</th>\n",
       "      <td>2018 Q4</td>\n",
       "      <td>8576.964286</td>\n",
       "    </tr>\n",
       "    <tr>\n",
       "      <th>8</th>\n",
       "      <td>2019 Q1</td>\n",
       "      <td>8865.107143</td>\n",
       "    </tr>\n",
       "    <tr>\n",
       "      <th>9</th>\n",
       "      <td>2019 Q2</td>\n",
       "      <td>9189.892857</td>\n",
       "    </tr>\n",
       "    <tr>\n",
       "      <th>10</th>\n",
       "      <td>2019 Q3</td>\n",
       "      <td>9106.571429</td>\n",
       "    </tr>\n",
       "    <tr>\n",
       "      <th>11</th>\n",
       "      <td>2019 Q4</td>\n",
       "      <td>9294.571429</td>\n",
       "    </tr>\n",
       "    <tr>\n",
       "      <th>12</th>\n",
       "      <td>2020 Q1</td>\n",
       "      <td>9443.642857</td>\n",
       "    </tr>\n",
       "    <tr>\n",
       "      <th>13</th>\n",
       "      <td>2020 Q2</td>\n",
       "      <td>8662.214286</td>\n",
       "    </tr>\n",
       "    <tr>\n",
       "      <th>14</th>\n",
       "      <td>2020 Q3</td>\n",
       "      <td>8609.214286</td>\n",
       "    </tr>\n",
       "    <tr>\n",
       "      <th>15</th>\n",
       "      <td>2020 Q4</td>\n",
       "      <td>9103.142857</td>\n",
       "    </tr>\n",
       "    <tr>\n",
       "      <th>16</th>\n",
       "      <td>2021 Q1</td>\n",
       "      <td>9550.607143</td>\n",
       "    </tr>\n",
       "    <tr>\n",
       "      <th>17</th>\n",
       "      <td>2021 Q2</td>\n",
       "      <td>9597.785714</td>\n",
       "    </tr>\n",
       "  </tbody>\n",
       "</table>\n",
       "</div>"
      ],
      "text/plain": [
       "   Year Quarter       Salary\n",
       "0       2017 Q1  8777.821429\n",
       "1       2017 Q2  8644.857143\n",
       "2       2017 Q3  8622.250000\n",
       "3       2017 Q4  8427.678571\n",
       "4       2018 Q1  8551.678571\n",
       "5       2018 Q2  9013.642857\n",
       "6       2018 Q3  9062.928571\n",
       "7       2018 Q4  8576.964286\n",
       "8       2019 Q1  8865.107143\n",
       "9       2019 Q2  9189.892857\n",
       "10      2019 Q3  9106.571429\n",
       "11      2019 Q4  9294.571429\n",
       "12      2020 Q1  9443.642857\n",
       "13      2020 Q2  8662.214286\n",
       "14      2020 Q3  8609.214286\n",
       "15      2020 Q4  9103.142857\n",
       "16      2021 Q1  9550.607143\n",
       "17      2021 Q2  9597.785714"
      ]
     },
     "execution_count": 128,
     "metadata": {},
     "output_type": "execute_result"
    }
   ],
   "source": [
    "z=DF.groupby(['Year Quarter'])['Salary'].mean()\n",
    "YS=pd.DataFrame(z)\n",
    "YS.reset_index(inplace=True)\n",
    "YS"
   ]
  },
  {
   "cell_type": "code",
   "execution_count": 137,
   "id": "9e5ead67",
   "metadata": {},
   "outputs": [
    {
     "data": {
      "text/plain": [
       "<matplotlib.collections.PathCollection at 0x26e4df92be0>"
      ]
     },
     "execution_count": 137,
     "metadata": {},
     "output_type": "execute_result"
    },
    {
     "data": {
      "image/png": "[encoded data removed]",
      "text/plain": [
       "<Figure size 1152x288 with 1 Axes>"
      ]
     },
     "metadata": {
      "needs_background": "light"
     },
     "output_type": "display_data"
    }
   ],
   "source": [
    "\n",
    "\n",
    "plt.figure(figsize=(16,4))\n",
    "\n",
    "plt.scatter(YS['Year Quarter'], YS['Salary'])"
   ]
  }
 ],
 "metadata": {
  "kernelspec": {
   "display_name": "Python 3",
   "language": "python",
   "name": "python3"
  },
  "language_info": {
   "codemirror_mode": {
    "name": "ipython",
    "version": 3
   },
   "file_extension": ".py",
   "mimetype": "text/x-python",
   "name": "python",
   "nbconvert_exporter": "python",
   "pygments_lexer": "ipython3",
   "version": "3.8.8"
  }
 },
 "nbformat": 4,
 "nbformat_minor": 5
}
